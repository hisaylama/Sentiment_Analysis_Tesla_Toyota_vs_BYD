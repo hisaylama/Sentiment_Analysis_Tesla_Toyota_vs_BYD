{
 "cells": [
  {
   "cell_type": "markdown",
   "id": "564192f2-5f57-4b64-8631-a3116fa9ab82",
   "metadata": {},
   "source": [
    "## Sentiment analaysis from financial news data for BYD and Tesla \n",
    "\n",
    "### Project Overview\n",
    "\n",
    "1. **Data Source**:  \n",
    "   - News headlines are scraped from [**Finviz**](https://finviz.com/), a popular financial news and stock screener platform.\n",
    "\n",
    "2. **Key Libraries Used**:\n",
    "   - `BeautifulSoup`: For parsing and extracting news headlines from HTML (web scraping).\n",
    "   - `urllib.request.Request`: For making HTTP requests to retrieve webpage content.\n",
    "   - `nltk (VADER)`: For performing sentiment analysis on news headlines.\n",
    "\n",
    "3. **Notebook Outcome**:\n",
    "   - Generates visualizations that show **sentiment score patterns over time** for selected tech company stocks using heatmaps, and interactive line plots.\n",
    "\n",
    "---\n",
    "\n",
    "**Methodoloy**\n",
    "- Market news is scraped from **Finviz** ([weblink](https://finviz.com/)) for selected stock tickers (`BYD` and `TSLA`) \n",
    "- Each news **headline** is analyzed using **VADER sentiment analysis** to generate a **compound sentiment score** (ranging from -1 to 1).\n",
    "- Sentiment scores are aggregated **daily** for each ticker to reflect overall market sentiment.\n",
    "- Results are visualized through **heatmaps**, and **interactive line plots** to reveal sentiment trends over time.\n",
    "- Users can **hover over data points** in the interactive chart to explore daily sentiment and cross-reference with corresponding news headlines.\n"
   ]
  },
  {
   "cell_type": "markdown",
   "id": "064f0844-886b-49bf-906e-a320c406fce6",
   "metadata": {},
   "source": [
    "### 1. Import important libraries"
   ]
  },
  {
   "cell_type": "code",
   "execution_count": 68,
   "id": "fdd5da0c-0b67-4fb2-9f6c-b1f01923a524",
   "metadata": {},
   "outputs": [
    {
     "data": {
      "text/plain": [
       "True"
      ]
     },
     "execution_count": 68,
     "metadata": {},
     "output_type": "execute_result"
    }
   ],
   "source": [
    "from urllib.request import urlopen, Request\n",
    "from bs4 import BeautifulSoup\n",
    "from nltk.sentiment.vader import SentimentIntensityAnalyzer\n",
    "import nltk\n",
    "import numpy as np\n",
    "import pandas as pd\n",
    "import matplotlib.pyplot as plt\n",
    "import seaborn as sns\n",
    "\n",
    "# Download `vader_lexicon` which is a SentimentIntensityAnalyzer\n",
    "nltk.download('vader_lexicon', quiet=True)"
   ]
  },
  {
   "cell_type": "markdown",
   "id": "613473ab-8179-4277-b01a-aadb6a46c688",
   "metadata": {},
   "source": [
    "### 2. Scrape News Headlines from Finviz\n",
    "\n",
    "This section loops through a list of stock tickers, constructs their corresponding Finviz URLs, and scrapes the latest news headlines.\n"
   ]
  },
  {
   "cell_type": "code",
   "execution_count": 70,
   "id": "7bd52d0f-fb0b-428c-b297-9273cc56044d",
   "metadata": {},
   "outputs": [],
   "source": [
    "finviz_url = 'https://finviz.com/quote.ashx?t='\n",
    "tickers = ['TSLA', 'BYD']\n",
    "\n",
    "news_tables = {}\n",
    "for ticker in tickers:\n",
    "    # Construct the URL for each ticker\n",
    "    url = finviz_url + ticker\n",
    "    req = Request(url, headers={'User-Agent': 'my-app'})\n",
    "    \n",
    "    try:\n",
    "        response = urlopen(req) #fetch the page\n",
    "        html = BeautifulSoup(response, 'html.parser') #parse the HTML\n",
    "        news_table = html.find(id='news-table') # find the news table\n",
    "\n",
    "        if news_table:\n",
    "            news_tables[ticker] = news_table\n",
    "        else:\n",
    "            print(f\"Warning: No news table found for {ticker}\")\n",
    "\n",
    "    except Exception as e:\n",
    "        print(f\"Error fetching data for {ticker}: {e}\") #handle errors"
   ]
  },
  {
   "cell_type": "markdown",
   "id": "19a946d0-2fd9-40ea-b1dc-562233788683",
   "metadata": {},
   "source": [
    "### 3. Parse News Headlines and Build DataFrame\n",
    "This section extracts structured information (ticker, date, time, title) from the HTML news tables."
   ]
  },
  {
   "cell_type": "code",
   "execution_count": 72,
   "id": "865f4103-252f-4e51-a872-5aa7ea9e717d",
   "metadata": {},
   "outputs": [],
   "source": [
    "#Parse the news data\n",
    "parsed_data = [] #Initialize an empty list to store parsed data\n",
    "for ticker, news_table in news_tables.items():\n",
    "    for row in news_table.findAll('tr'):\n",
    "        try:\n",
    "            title = row.a.get_text() if row.a else None #Extracts tile\n",
    "            date_data = row.td.text.split() if row.td else []#Extracts date and time\n",
    "            \n",
    "            if len(date_data) == 1:\n",
    "                date = None\n",
    "                time = date_data[0]\n",
    "            elif len(date_data) == 2:\n",
    "                date = date_data[0]\n",
    "                time = date_data[1]\n",
    "            else:\n",
    "                continue\n",
    "            if title:\n",
    "                parsed_data.append([ticker, date, time, title])\n",
    "        except Exception as e:\n",
    "            print(f\"Error parsing row: {e}\")\n",
    "            \n",
    "# Create a DataFrame from the parsed data\n",
    "df = pd.DataFrame(parsed_data, columns=['ticker', 'date', 'time', 'title'])"
   ]
  },
  {
   "cell_type": "code",
   "execution_count": 73,
   "id": "5b593ed7-d6e4-48d3-ab4f-ebc0b23853f8",
   "metadata": {},
   "outputs": [
    {
     "data": {
      "text/plain": [
       "ticker\n",
       "TSLA    95\n",
       "BYD     31\n",
       "Name: count, dtype: int64"
      ]
     },
     "execution_count": 73,
     "metadata": {},
     "output_type": "execute_result"
    }
   ],
   "source": [
    "#Check the number of missing values\n",
    "missing_dates_by_ticker = df[df['date'].isna()]['ticker'].value_counts()\n",
    "missing_dates_by_ticker"
   ]
  },
  {
   "cell_type": "markdown",
   "id": "47dab172-2b14-46b4-a381-53653d783587",
   "metadata": {},
   "source": [
    "### 4. Perform Sentiment Analysis and Prepare Data"
   ]
  },
  {
   "cell_type": "code",
   "execution_count": 121,
   "id": "662ee236-0724-4056-a240-5eb4d0bbc98f",
   "metadata": {},
   "outputs": [],
   "source": [
    "from nltk.sentiment.vader import SentimentIntensityAnalyzer\n",
    "\n",
    "vader = SentimentIntensityAnalyzer()\n",
    "df['compound'] = df['title'].apply(lambda x: vader.polarity_scores(x)['compound'])\n",
    "\n",
    "# Specify the format if known: 'Apr-19-25' => '%b-%d-%y'\n",
    "df['date'] = pd.to_datetime(df['date'], format='%b-%d-%y', errors='coerce').dt.date\n",
    "numeric_df = df[['ticker', 'date', 'compound']]\n"
   ]
  },
  {
   "cell_type": "markdown",
   "id": "5c33cf73-a3e3-4b72-96bc-326b106377fa",
   "metadata": {},
   "source": [
    "### 5. Visualize Sentiment Analysis Results"
   ]
  },
  {
   "cell_type": "code",
   "execution_count": 117,
   "id": "4d0226cb-b1b1-4cd4-9e0e-a4b85effaaa2",
   "metadata": {},
   "outputs": [],
   "source": [
    "import seaborn as sns\n",
    "import matplotlib.pyplot as plt\n",
    "import plotly.express as px\n",
    "\n",
    "# Group and average sentiment by ticker and date\n",
    "mean_df = numeric_df.groupby(['ticker', 'date']).mean().reset_index()\n",
    "pivot_df = mean_df.pivot(index='date', columns='ticker', values='compound')"
   ]
  },
  {
   "cell_type": "code",
   "execution_count": 127,
   "id": "731f9d60-b961-43dc-beb0-16b1b02b2033",
   "metadata": {},
   "outputs": [],
   "source": [
    "# plt.figure(figsize=(10, 6))\n",
    "# sns.heatmap(pivot_df.T, annot=True, fmt=\".2f\", cmap=\"coolwarm\", linewidths=0.5)\n",
    "# plt.title(\"Heatmap: Average Daily Sentiment Score\")\n",
    "# plt.xlabel(\"Date\")\n",
    "# plt.ylabel(\"Ticker\")\n",
    "# plt.tight_layout()\n",
    "# plt.show()"
   ]
  },
  {
   "cell_type": "markdown",
   "id": "683c6fe6-6e58-46dc-adca-5eddf73a8dff",
   "metadata": {},
   "source": [
    "**Interactive plot**\n"
   ]
  },
  {
   "cell_type": "code",
   "execution_count": 119,
   "id": "6da3f183-2c42-4b21-8a9f-940111cc2654",
   "metadata": {},
   "outputs": [
    {
     "data": {
      "application/vnd.plotly.v1+json": {
       "config": {
        "plotlyServerURL": "https://plot.ly"
       },
       "data": [
        {
         "hovertemplate": "ticker=BYD<br>Date=%{x}<br>Compound Sentiment Score=%{y}<extra></extra>",
         "legendgroup": "BYD",
         "line": {
          "color": "#636efa",
          "dash": "solid"
         },
         "marker": {
          "symbol": "circle"
         },
         "mode": "lines",
         "name": "BYD",
         "orientation": "v",
         "showlegend": true,
         "type": "scatter",
         "x": [
          "2024-07-25",
          "2024-07-26",
          "2024-07-27",
          "2024-08-10",
          "2024-08-16",
          "2024-08-19",
          "2024-08-20",
          "2024-08-28",
          "2024-08-29",
          "2024-09-03",
          "2024-09-11",
          "2024-09-14",
          "2024-09-16",
          "2024-09-23",
          "2024-10-01",
          "2024-10-17",
          "2024-10-18",
          "2024-10-19",
          "2024-10-22",
          "2024-10-23",
          "2024-10-24",
          "2024-10-25",
          "2024-10-28",
          "2024-10-29",
          "2024-11-03",
          "2024-11-06",
          "2024-11-14",
          "2024-11-15",
          "2024-11-18",
          "2024-11-20",
          "2024-11-25",
          "2024-11-26",
          "2024-12-04",
          "2024-12-05",
          "2024-12-13",
          "2024-12-19",
          "2024-12-23",
          "2025-01-02",
          "2025-01-06",
          "2025-01-10",
          "2025-01-14",
          "2025-01-17",
          "2025-01-29",
          "2025-01-30",
          "2025-01-31",
          "2025-02-01",
          "2025-02-05",
          "2025-02-06",
          "2025-02-07",
          "2025-02-10",
          "2025-02-11",
          "2025-02-12",
          "2025-02-13",
          "2025-02-20",
          "2025-02-28",
          "2025-03-04",
          "2025-03-19",
          "2025-03-20",
          "2025-03-21",
          "2025-03-23",
          "2025-03-24",
          "2025-03-27",
          "2025-03-31",
          "2025-04-01",
          "2025-04-02",
          "2025-04-05",
          "2025-04-10",
          "2025-04-15",
          "2025-04-17"
         ],
         "xaxis": "x",
         "y": [
          0,
          0,
          0,
          0.6369,
          0.4215,
          0,
          0,
          0.7906,
          0,
          0.6369,
          0,
          0.5859,
          0.6369,
          0,
          0,
          0,
          0,
          0.6908,
          0,
          0,
          0,
          0,
          0.4215,
          0,
          0,
          0.5106,
          0.4939,
          0.2023,
          0,
          0,
          0,
          0,
          0.6908,
          0.4466,
          -0.1779,
          0.4215,
          0.4215,
          0.8056,
          0,
          0,
          0,
          0,
          0.0516,
          0.3818,
          0,
          0,
          0.3612,
          0,
          0,
          0,
          0,
          0,
          0,
          0.4466,
          0.6369,
          0.34,
          0.4767,
          0,
          0.34,
          0.6369,
          0,
          0,
          0.5106,
          0,
          -0.128,
          0,
          0.7506,
          0.6369,
          0.3818
         ],
         "yaxis": "y"
        },
        {
         "hovertemplate": "ticker=TSLA<br>Date=%{x}<br>Compound Sentiment Score=%{y}<extra></extra>",
         "legendgroup": "TSLA",
         "line": {
          "color": "#EF553B",
          "dash": "solid"
         },
         "marker": {
          "symbol": "circle"
         },
         "mode": "lines",
         "name": "TSLA",
         "orientation": "v",
         "showlegend": true,
         "type": "scatter",
         "x": [
          "2025-04-16",
          "2025-04-17",
          "2025-04-18",
          "2025-04-19"
         ],
         "xaxis": "x",
         "y": [
          0.6597,
          0.1779,
          -0.3182,
          0.6369
         ],
         "yaxis": "y"
        }
       ],
       "layout": {
        "autosize": true,
        "font": {
         "color": "white"
        },
        "hovermode": "x unified",
        "legend": {
         "title": {
          "text": "ticker"
         },
         "tracegroupgap": 0
        },
        "template": {
         "data": {
          "bar": [
           {
            "error_x": {
             "color": "#f2f5fa"
            },
            "error_y": {
             "color": "#f2f5fa"
            },
            "marker": {
             "line": {
              "color": "rgb(17,17,17)",
              "width": 0.5
             },
             "pattern": {
              "fillmode": "overlay",
              "size": 10,
              "solidity": 0.2
             }
            },
            "type": "bar"
           }
          ],
          "barpolar": [
           {
            "marker": {
             "line": {
              "color": "rgb(17,17,17)",
              "width": 0.5
             },
             "pattern": {
              "fillmode": "overlay",
              "size": 10,
              "solidity": 0.2
             }
            },
            "type": "barpolar"
           }
          ],
          "carpet": [
           {
            "aaxis": {
             "endlinecolor": "#A2B1C6",
             "gridcolor": "#506784",
             "linecolor": "#506784",
             "minorgridcolor": "#506784",
             "startlinecolor": "#A2B1C6"
            },
            "baxis": {
             "endlinecolor": "#A2B1C6",
             "gridcolor": "#506784",
             "linecolor": "#506784",
             "minorgridcolor": "#506784",
             "startlinecolor": "#A2B1C6"
            },
            "type": "carpet"
           }
          ],
          "choropleth": [
           {
            "colorbar": {
             "outlinewidth": 0,
             "ticks": ""
            },
            "type": "choropleth"
           }
          ],
          "contour": [
           {
            "colorbar": {
             "outlinewidth": 0,
             "ticks": ""
            },
            "colorscale": [
             [
              0,
              "#0d0887"
             ],
             [
              0.1111111111111111,
              "#46039f"
             ],
             [
              0.2222222222222222,
              "#7201a8"
             ],
             [
              0.3333333333333333,
              "#9c179e"
             ],
             [
              0.4444444444444444,
              "#bd3786"
             ],
             [
              0.5555555555555556,
              "#d8576b"
             ],
             [
              0.6666666666666666,
              "#ed7953"
             ],
             [
              0.7777777777777778,
              "#fb9f3a"
             ],
             [
              0.8888888888888888,
              "#fdca26"
             ],
             [
              1,
              "#f0f921"
             ]
            ],
            "type": "contour"
           }
          ],
          "contourcarpet": [
           {
            "colorbar": {
             "outlinewidth": 0,
             "ticks": ""
            },
            "type": "contourcarpet"
           }
          ],
          "heatmap": [
           {
            "colorbar": {
             "outlinewidth": 0,
             "ticks": ""
            },
            "colorscale": [
             [
              0,
              "#0d0887"
             ],
             [
              0.1111111111111111,
              "#46039f"
             ],
             [
              0.2222222222222222,
              "#7201a8"
             ],
             [
              0.3333333333333333,
              "#9c179e"
             ],
             [
              0.4444444444444444,
              "#bd3786"
             ],
             [
              0.5555555555555556,
              "#d8576b"
             ],
             [
              0.6666666666666666,
              "#ed7953"
             ],
             [
              0.7777777777777778,
              "#fb9f3a"
             ],
             [
              0.8888888888888888,
              "#fdca26"
             ],
             [
              1,
              "#f0f921"
             ]
            ],
            "type": "heatmap"
           }
          ],
          "heatmapgl": [
           {
            "colorbar": {
             "outlinewidth": 0,
             "ticks": ""
            },
            "colorscale": [
             [
              0,
              "#0d0887"
             ],
             [
              0.1111111111111111,
              "#46039f"
             ],
             [
              0.2222222222222222,
              "#7201a8"
             ],
             [
              0.3333333333333333,
              "#9c179e"
             ],
             [
              0.4444444444444444,
              "#bd3786"
             ],
             [
              0.5555555555555556,
              "#d8576b"
             ],
             [
              0.6666666666666666,
              "#ed7953"
             ],
             [
              0.7777777777777778,
              "#fb9f3a"
             ],
             [
              0.8888888888888888,
              "#fdca26"
             ],
             [
              1,
              "#f0f921"
             ]
            ],
            "type": "heatmapgl"
           }
          ],
          "histogram": [
           {
            "marker": {
             "pattern": {
              "fillmode": "overlay",
              "size": 10,
              "solidity": 0.2
             }
            },
            "type": "histogram"
           }
          ],
          "histogram2d": [
           {
            "colorbar": {
             "outlinewidth": 0,
             "ticks": ""
            },
            "colorscale": [
             [
              0,
              "#0d0887"
             ],
             [
              0.1111111111111111,
              "#46039f"
             ],
             [
              0.2222222222222222,
              "#7201a8"
             ],
             [
              0.3333333333333333,
              "#9c179e"
             ],
             [
              0.4444444444444444,
              "#bd3786"
             ],
             [
              0.5555555555555556,
              "#d8576b"
             ],
             [
              0.6666666666666666,
              "#ed7953"
             ],
             [
              0.7777777777777778,
              "#fb9f3a"
             ],
             [
              0.8888888888888888,
              "#fdca26"
             ],
             [
              1,
              "#f0f921"
             ]
            ],
            "type": "histogram2d"
           }
          ],
          "histogram2dcontour": [
           {
            "colorbar": {
             "outlinewidth": 0,
             "ticks": ""
            },
            "colorscale": [
             [
              0,
              "#0d0887"
             ],
             [
              0.1111111111111111,
              "#46039f"
             ],
             [
              0.2222222222222222,
              "#7201a8"
             ],
             [
              0.3333333333333333,
              "#9c179e"
             ],
             [
              0.4444444444444444,
              "#bd3786"
             ],
             [
              0.5555555555555556,
              "#d8576b"
             ],
             [
              0.6666666666666666,
              "#ed7953"
             ],
             [
              0.7777777777777778,
              "#fb9f3a"
             ],
             [
              0.8888888888888888,
              "#fdca26"
             ],
             [
              1,
              "#f0f921"
             ]
            ],
            "type": "histogram2dcontour"
           }
          ],
          "mesh3d": [
           {
            "colorbar": {
             "outlinewidth": 0,
             "ticks": ""
            },
            "type": "mesh3d"
           }
          ],
          "parcoords": [
           {
            "line": {
             "colorbar": {
              "outlinewidth": 0,
              "ticks": ""
             }
            },
            "type": "parcoords"
           }
          ],
          "pie": [
           {
            "automargin": true,
            "type": "pie"
           }
          ],
          "scatter": [
           {
            "marker": {
             "line": {
              "color": "#283442"
             }
            },
            "type": "scatter"
           }
          ],
          "scatter3d": [
           {
            "line": {
             "colorbar": {
              "outlinewidth": 0,
              "ticks": ""
             }
            },
            "marker": {
             "colorbar": {
              "outlinewidth": 0,
              "ticks": ""
             }
            },
            "type": "scatter3d"
           }
          ],
          "scattercarpet": [
           {
            "marker": {
             "colorbar": {
              "outlinewidth": 0,
              "ticks": ""
             }
            },
            "type": "scattercarpet"
           }
          ],
          "scattergeo": [
           {
            "marker": {
             "colorbar": {
              "outlinewidth": 0,
              "ticks": ""
             }
            },
            "type": "scattergeo"
           }
          ],
          "scattergl": [
           {
            "marker": {
             "line": {
              "color": "#283442"
             }
            },
            "type": "scattergl"
           }
          ],
          "scattermapbox": [
           {
            "marker": {
             "colorbar": {
              "outlinewidth": 0,
              "ticks": ""
             }
            },
            "type": "scattermapbox"
           }
          ],
          "scatterpolar": [
           {
            "marker": {
             "colorbar": {
              "outlinewidth": 0,
              "ticks": ""
             }
            },
            "type": "scatterpolar"
           }
          ],
          "scatterpolargl": [
           {
            "marker": {
             "colorbar": {
              "outlinewidth": 0,
              "ticks": ""
             }
            },
            "type": "scatterpolargl"
           }
          ],
          "scatterternary": [
           {
            "marker": {
             "colorbar": {
              "outlinewidth": 0,
              "ticks": ""
             }
            },
            "type": "scatterternary"
           }
          ],
          "surface": [
           {
            "colorbar": {
             "outlinewidth": 0,
             "ticks": ""
            },
            "colorscale": [
             [
              0,
              "#0d0887"
             ],
             [
              0.1111111111111111,
              "#46039f"
             ],
             [
              0.2222222222222222,
              "#7201a8"
             ],
             [
              0.3333333333333333,
              "#9c179e"
             ],
             [
              0.4444444444444444,
              "#bd3786"
             ],
             [
              0.5555555555555556,
              "#d8576b"
             ],
             [
              0.6666666666666666,
              "#ed7953"
             ],
             [
              0.7777777777777778,
              "#fb9f3a"
             ],
             [
              0.8888888888888888,
              "#fdca26"
             ],
             [
              1,
              "#f0f921"
             ]
            ],
            "type": "surface"
           }
          ],
          "table": [
           {
            "cells": {
             "fill": {
              "color": "#506784"
             },
             "line": {
              "color": "rgb(17,17,17)"
             }
            },
            "header": {
             "fill": {
              "color": "#2a3f5f"
             },
             "line": {
              "color": "rgb(17,17,17)"
             }
            },
            "type": "table"
           }
          ]
         },
         "layout": {
          "annotationdefaults": {
           "arrowcolor": "#f2f5fa",
           "arrowhead": 0,
           "arrowwidth": 1
          },
          "autotypenumbers": "strict",
          "coloraxis": {
           "colorbar": {
            "outlinewidth": 0,
            "ticks": ""
           }
          },
          "colorscale": {
           "diverging": [
            [
             0,
             "#8e0152"
            ],
            [
             0.1,
             "#c51b7d"
            ],
            [
             0.2,
             "#de77ae"
            ],
            [
             0.3,
             "#f1b6da"
            ],
            [
             0.4,
             "#fde0ef"
            ],
            [
             0.5,
             "#f7f7f7"
            ],
            [
             0.6,
             "#e6f5d0"
            ],
            [
             0.7,
             "#b8e186"
            ],
            [
             0.8,
             "#7fbc41"
            ],
            [
             0.9,
             "#4d9221"
            ],
            [
             1,
             "#276419"
            ]
           ],
           "sequential": [
            [
             0,
             "#0d0887"
            ],
            [
             0.1111111111111111,
             "#46039f"
            ],
            [
             0.2222222222222222,
             "#7201a8"
            ],
            [
             0.3333333333333333,
             "#9c179e"
            ],
            [
             0.4444444444444444,
             "#bd3786"
            ],
            [
             0.5555555555555556,
             "#d8576b"
            ],
            [
             0.6666666666666666,
             "#ed7953"
            ],
            [
             0.7777777777777778,
             "#fb9f3a"
            ],
            [
             0.8888888888888888,
             "#fdca26"
            ],
            [
             1,
             "#f0f921"
            ]
           ],
           "sequentialminus": [
            [
             0,
             "#0d0887"
            ],
            [
             0.1111111111111111,
             "#46039f"
            ],
            [
             0.2222222222222222,
             "#7201a8"
            ],
            [
             0.3333333333333333,
             "#9c179e"
            ],
            [
             0.4444444444444444,
             "#bd3786"
            ],
            [
             0.5555555555555556,
             "#d8576b"
            ],
            [
             0.6666666666666666,
             "#ed7953"
            ],
            [
             0.7777777777777778,
             "#fb9f3a"
            ],
            [
             0.8888888888888888,
             "#fdca26"
            ],
            [
             1,
             "#f0f921"
            ]
           ]
          },
          "colorway": [
           "#636efa",
           "#EF553B",
           "#00cc96",
           "#ab63fa",
           "#FFA15A",
           "#19d3f3",
           "#FF6692",
           "#B6E880",
           "#FF97FF",
           "#FECB52"
          ],
          "font": {
           "color": "#f2f5fa"
          },
          "geo": {
           "bgcolor": "rgb(17,17,17)",
           "lakecolor": "rgb(17,17,17)",
           "landcolor": "rgb(17,17,17)",
           "showlakes": true,
           "showland": true,
           "subunitcolor": "#506784"
          },
          "hoverlabel": {
           "align": "left"
          },
          "hovermode": "closest",
          "mapbox": {
           "style": "dark"
          },
          "paper_bgcolor": "rgb(17,17,17)",
          "plot_bgcolor": "rgb(17,17,17)",
          "polar": {
           "angularaxis": {
            "gridcolor": "#506784",
            "linecolor": "#506784",
            "ticks": ""
           },
           "bgcolor": "rgb(17,17,17)",
           "radialaxis": {
            "gridcolor": "#506784",
            "linecolor": "#506784",
            "ticks": ""
           }
          },
          "scene": {
           "xaxis": {
            "backgroundcolor": "rgb(17,17,17)",
            "gridcolor": "#506784",
            "gridwidth": 2,
            "linecolor": "#506784",
            "showbackground": true,
            "ticks": "",
            "zerolinecolor": "#C8D4E3"
           },
           "yaxis": {
            "backgroundcolor": "rgb(17,17,17)",
            "gridcolor": "#506784",
            "gridwidth": 2,
            "linecolor": "#506784",
            "showbackground": true,
            "ticks": "",
            "zerolinecolor": "#C8D4E3"
           },
           "zaxis": {
            "backgroundcolor": "rgb(17,17,17)",
            "gridcolor": "#506784",
            "gridwidth": 2,
            "linecolor": "#506784",
            "showbackground": true,
            "ticks": "",
            "zerolinecolor": "#C8D4E3"
           }
          },
          "shapedefaults": {
           "line": {
            "color": "#f2f5fa"
           }
          },
          "sliderdefaults": {
           "bgcolor": "#C8D4E3",
           "bordercolor": "rgb(17,17,17)",
           "borderwidth": 1,
           "tickwidth": 0
          },
          "ternary": {
           "aaxis": {
            "gridcolor": "#506784",
            "linecolor": "#506784",
            "ticks": ""
           },
           "baxis": {
            "gridcolor": "#506784",
            "linecolor": "#506784",
            "ticks": ""
           },
           "bgcolor": "rgb(17,17,17)",
           "caxis": {
            "gridcolor": "#506784",
            "linecolor": "#506784",
            "ticks": ""
           }
          },
          "title": {
           "x": 0.05
          },
          "updatemenudefaults": {
           "bgcolor": "#506784",
           "borderwidth": 0
          },
          "xaxis": {
           "automargin": true,
           "gridcolor": "#283442",
           "linecolor": "#506784",
           "ticks": "",
           "title": {
            "standoff": 15
           },
           "zerolinecolor": "#283442",
           "zerolinewidth": 2
          },
          "yaxis": {
           "automargin": true,
           "gridcolor": "#283442",
           "linecolor": "#506784",
           "ticks": "",
           "title": {
            "standoff": 15
           },
           "zerolinecolor": "#283442",
           "zerolinewidth": 2
          }
         }
        },
        "title": {
         "text": "Sentiment Over Time"
        },
        "xaxis": {
         "anchor": "y",
         "autorange": true,
         "domain": [
          0,
          1
         ],
         "range": [
          "2024-07-25",
          "2025-04-19"
         ],
         "title": {
          "text": "Date"
         },
         "type": "date"
        },
        "yaxis": {
         "anchor": "x",
         "autorange": true,
         "domain": [
          0,
          1
         ],
         "range": [
          -0.3806333333333333,
          0.8680333333333333
         ],
         "title": {
          "text": "Compound Sentiment Score"
         },
         "type": "linear"
        }
       }
      },
      "image/png": "[encoded data removed]",
      "text/html": [
       "<div>                            <div id=\"6a3e33ae-48a7-4542-950d-6484ca66de94\" class=\"plotly-graph-div\" style=\"height:525px; width:100%;\"></div>            <script type=\"text/javascript\">                require([\"plotly\"], function(Plotly) {                    window.PLOTLYENV=window.PLOTLYENV || {};                                    if (document.getElementById(\"6a3e33ae-48a7-4542-950d-6484ca66de94\")) {                    Plotly.newPlot(                        \"6a3e33ae-48a7-4542-950d-6484ca66de94\",                        [{\"hovertemplate\":\"ticker=BYD\\u003cbr\\u003eDate=%{x}\\u003cbr\\u003eCompound Sentiment Score=%{y}\\u003cextra\\u003e\\u003c\\u002fextra\\u003e\",\"legendgroup\":\"BYD\",\"line\":{\"color\":\"#636efa\",\"dash\":\"solid\"},\"marker\":{\"symbol\":\"circle\"},\"mode\":\"lines\",\"name\":\"BYD\",\"orientation\":\"v\",\"showlegend\":true,\"x\":[\"2024-07-25\",\"2024-07-26\",\"2024-07-27\",\"2024-08-10\",\"2024-08-16\",\"2024-08-19\",\"2024-08-20\",\"2024-08-28\",\"2024-08-29\",\"2024-09-03\",\"2024-09-11\",\"2024-09-14\",\"2024-09-16\",\"2024-09-23\",\"2024-10-01\",\"2024-10-17\",\"2024-10-18\",\"2024-10-19\",\"2024-10-22\",\"2024-10-23\",\"2024-10-24\",\"2024-10-25\",\"2024-10-28\",\"2024-10-29\",\"2024-11-03\",\"2024-11-06\",\"2024-11-14\",\"2024-11-15\",\"2024-11-18\",\"2024-11-20\",\"2024-11-25\",\"2024-11-26\",\"2024-12-04\",\"2024-12-05\",\"2024-12-13\",\"2024-12-19\",\"2024-12-23\",\"2025-01-02\",\"2025-01-06\",\"2025-01-10\",\"2025-01-14\",\"2025-01-17\",\"2025-01-29\",\"2025-01-30\",\"2025-01-31\",\"2025-02-01\",\"2025-02-05\",\"2025-02-06\",\"2025-02-07\",\"2025-02-10\",\"2025-02-11\",\"2025-02-12\",\"2025-02-13\",\"2025-02-20\",\"2025-02-28\",\"2025-03-04\",\"2025-03-19\",\"2025-03-20\",\"2025-03-21\",\"2025-03-23\",\"2025-03-24\",\"2025-03-27\",\"2025-03-31\",\"2025-04-01\",\"2025-04-02\",\"2025-04-05\",\"2025-04-10\",\"2025-04-15\",\"2025-04-17\"],\"xaxis\":\"x\",\"y\":[0.0,0.0,0.0,0.6369,0.4215,0.0,0.0,0.7906,0.0,0.6369,0.0,0.5859,0.6369,0.0,0.0,0.0,0.0,0.6908,0.0,0.0,0.0,0.0,0.4215,0.0,0.0,0.5106,0.4939,0.2023,0.0,0.0,0.0,0.0,0.6908,0.4466,-0.1779,0.4215,0.4215,0.8056,0.0,0.0,0.0,0.0,0.0516,0.3818,0.0,0.0,0.3612,0.0,0.0,0.0,0.0,0.0,0.0,0.4466,0.6369,0.34,0.4767,0.0,0.34,0.6369,0.0,0.0,0.5106,0.0,-0.128,0.0,0.7506,0.6369,0.3818],\"yaxis\":\"y\",\"type\":\"scatter\"},{\"hovertemplate\":\"ticker=TSLA\\u003cbr\\u003eDate=%{x}\\u003cbr\\u003eCompound Sentiment Score=%{y}\\u003cextra\\u003e\\u003c\\u002fextra\\u003e\",\"legendgroup\":\"TSLA\",\"line\":{\"color\":\"#EF553B\",\"dash\":\"solid\"},\"marker\":{\"symbol\":\"circle\"},\"mode\":\"lines\",\"name\":\"TSLA\",\"orientation\":\"v\",\"showlegend\":true,\"x\":[\"2025-04-16\",\"2025-04-17\",\"2025-04-18\",\"2025-04-19\"],\"xaxis\":\"x\",\"y\":[0.6597,0.1779,-0.3182,0.6369],\"yaxis\":\"y\",\"type\":\"scatter\"}],                        {\"template\":{\"data\":{\"barpolar\":[{\"marker\":{\"line\":{\"color\":\"rgb(17,17,17)\",\"width\":0.5},\"pattern\":{\"fillmode\":\"overlay\",\"size\":10,\"solidity\":0.2}},\"type\":\"barpolar\"}],\"bar\":[{\"error_x\":{\"color\":\"#f2f5fa\"},\"error_y\":{\"color\":\"#f2f5fa\"},\"marker\":{\"line\":{\"color\":\"rgb(17,17,17)\",\"width\":0.5},\"pattern\":{\"fillmode\":\"overlay\",\"size\":10,\"solidity\":0.2}},\"type\":\"bar\"}],\"carpet\":[{\"aaxis\":{\"endlinecolor\":\"#A2B1C6\",\"gridcolor\":\"#506784\",\"linecolor\":\"#506784\",\"minorgridcolor\":\"#506784\",\"startlinecolor\":\"#A2B1C6\"},\"baxis\":{\"endlinecolor\":\"#A2B1C6\",\"gridcolor\":\"#506784\",\"linecolor\":\"#506784\",\"minorgridcolor\":\"#506784\",\"startlinecolor\":\"#A2B1C6\"},\"type\":\"carpet\"}],\"choropleth\":[{\"colorbar\":{\"outlinewidth\":0,\"ticks\":\"\"},\"type\":\"choropleth\"}],\"contourcarpet\":[{\"colorbar\":{\"outlinewidth\":0,\"ticks\":\"\"},\"type\":\"contourcarpet\"}],\"contour\":[{\"colorbar\":{\"outlinewidth\":0,\"ticks\":\"\"},\"colorscale\":[[0.0,\"#0d0887\"],[0.1111111111111111,\"#46039f\"],[0.2222222222222222,\"#7201a8\"],[0.3333333333333333,\"#9c179e\"],[0.4444444444444444,\"#bd3786\"],[0.5555555555555556,\"#d8576b\"],[0.6666666666666666,\"#ed7953\"],[0.7777777777777778,\"#fb9f3a\"],[0.8888888888888888,\"#fdca26\"],[1.0,\"#f0f921\"]],\"type\":\"contour\"}],\"heatmapgl\":[{\"colorbar\":{\"outlinewidth\":0,\"ticks\":\"\"},\"colorscale\":[[0.0,\"#0d0887\"],[0.1111111111111111,\"#46039f\"],[0.2222222222222222,\"#7201a8\"],[0.3333333333333333,\"#9c179e\"],[0.4444444444444444,\"#bd3786\"],[0.5555555555555556,\"#d8576b\"],[0.6666666666666666,\"#ed7953\"],[0.7777777777777778,\"#fb9f3a\"],[0.8888888888888888,\"#fdca26\"],[1.0,\"#f0f921\"]],\"type\":\"heatmapgl\"}],\"heatmap\":[{\"colorbar\":{\"outlinewidth\":0,\"ticks\":\"\"},\"colorscale\":[[0.0,\"#0d0887\"],[0.1111111111111111,\"#46039f\"],[0.2222222222222222,\"#7201a8\"],[0.3333333333333333,\"#9c179e\"],[0.4444444444444444,\"#bd3786\"],[0.5555555555555556,\"#d8576b\"],[0.6666666666666666,\"#ed7953\"],[0.7777777777777778,\"#fb9f3a\"],[0.8888888888888888,\"#fdca26\"],[1.0,\"#f0f921\"]],\"type\":\"heatmap\"}],\"histogram2dcontour\":[{\"colorbar\":{\"outlinewidth\":0,\"ticks\":\"\"},\"colorscale\":[[0.0,\"#0d0887\"],[0.1111111111111111,\"#46039f\"],[0.2222222222222222,\"#7201a8\"],[0.3333333333333333,\"#9c179e\"],[0.4444444444444444,\"#bd3786\"],[0.5555555555555556,\"#d8576b\"],[0.6666666666666666,\"#ed7953\"],[0.7777777777777778,\"#fb9f3a\"],[0.8888888888888888,\"#fdca26\"],[1.0,\"#f0f921\"]],\"type\":\"histogram2dcontour\"}],\"histogram2d\":[{\"colorbar\":{\"outlinewidth\":0,\"ticks\":\"\"},\"colorscale\":[[0.0,\"#0d0887\"],[0.1111111111111111,\"#46039f\"],[0.2222222222222222,\"#7201a8\"],[0.3333333333333333,\"#9c179e\"],[0.4444444444444444,\"#bd3786\"],[0.5555555555555556,\"#d8576b\"],[0.6666666666666666,\"#ed7953\"],[0.7777777777777778,\"#fb9f3a\"],[0.8888888888888888,\"#fdca26\"],[1.0,\"#f0f921\"]],\"type\":\"histogram2d\"}],\"histogram\":[{\"marker\":{\"pattern\":{\"fillmode\":\"overlay\",\"size\":10,\"solidity\":0.2}},\"type\":\"histogram\"}],\"mesh3d\":[{\"colorbar\":{\"outlinewidth\":0,\"ticks\":\"\"},\"type\":\"mesh3d\"}],\"parcoords\":[{\"line\":{\"colorbar\":{\"outlinewidth\":0,\"ticks\":\"\"}},\"type\":\"parcoords\"}],\"pie\":[{\"automargin\":true,\"type\":\"pie\"}],\"scatter3d\":[{\"line\":{\"colorbar\":{\"outlinewidth\":0,\"ticks\":\"\"}},\"marker\":{\"colorbar\":{\"outlinewidth\":0,\"ticks\":\"\"}},\"type\":\"scatter3d\"}],\"scattercarpet\":[{\"marker\":{\"colorbar\":{\"outlinewidth\":0,\"ticks\":\"\"}},\"type\":\"scattercarpet\"}],\"scattergeo\":[{\"marker\":{\"colorbar\":{\"outlinewidth\":0,\"ticks\":\"\"}},\"type\":\"scattergeo\"}],\"scattergl\":[{\"marker\":{\"line\":{\"color\":\"#283442\"}},\"type\":\"scattergl\"}],\"scattermapbox\":[{\"marker\":{\"colorbar\":{\"outlinewidth\":0,\"ticks\":\"\"}},\"type\":\"scattermapbox\"}],\"scatterpolargl\":[{\"marker\":{\"colorbar\":{\"outlinewidth\":0,\"ticks\":\"\"}},\"type\":\"scatterpolargl\"}],\"scatterpolar\":[{\"marker\":{\"colorbar\":{\"outlinewidth\":0,\"ticks\":\"\"}},\"type\":\"scatterpolar\"}],\"scatter\":[{\"marker\":{\"line\":{\"color\":\"#283442\"}},\"type\":\"scatter\"}],\"scatterternary\":[{\"marker\":{\"colorbar\":{\"outlinewidth\":0,\"ticks\":\"\"}},\"type\":\"scatterternary\"}],\"surface\":[{\"colorbar\":{\"outlinewidth\":0,\"ticks\":\"\"},\"colorscale\":[[0.0,\"#0d0887\"],[0.1111111111111111,\"#46039f\"],[0.2222222222222222,\"#7201a8\"],[0.3333333333333333,\"#9c179e\"],[0.4444444444444444,\"#bd3786\"],[0.5555555555555556,\"#d8576b\"],[0.6666666666666666,\"#ed7953\"],[0.7777777777777778,\"#fb9f3a\"],[0.8888888888888888,\"#fdca26\"],[1.0,\"#f0f921\"]],\"type\":\"surface\"}],\"table\":[{\"cells\":{\"fill\":{\"color\":\"#506784\"},\"line\":{\"color\":\"rgb(17,17,17)\"}},\"header\":{\"fill\":{\"color\":\"#2a3f5f\"},\"line\":{\"color\":\"rgb(17,17,17)\"}},\"type\":\"table\"}]},\"layout\":{\"annotationdefaults\":{\"arrowcolor\":\"#f2f5fa\",\"arrowhead\":0,\"arrowwidth\":1},\"autotypenumbers\":\"strict\",\"coloraxis\":{\"colorbar\":{\"outlinewidth\":0,\"ticks\":\"\"}},\"colorscale\":{\"diverging\":[[0,\"#8e0152\"],[0.1,\"#c51b7d\"],[0.2,\"#de77ae\"],[0.3,\"#f1b6da\"],[0.4,\"#fde0ef\"],[0.5,\"#f7f7f7\"],[0.6,\"#e6f5d0\"],[0.7,\"#b8e186\"],[0.8,\"#7fbc41\"],[0.9,\"#4d9221\"],[1,\"#276419\"]],\"sequential\":[[0.0,\"#0d0887\"],[0.1111111111111111,\"#46039f\"],[0.2222222222222222,\"#7201a8\"],[0.3333333333333333,\"#9c179e\"],[0.4444444444444444,\"#bd3786\"],[0.5555555555555556,\"#d8576b\"],[0.6666666666666666,\"#ed7953\"],[0.7777777777777778,\"#fb9f3a\"],[0.8888888888888888,\"#fdca26\"],[1.0,\"#f0f921\"]],\"sequentialminus\":[[0.0,\"#0d0887\"],[0.1111111111111111,\"#46039f\"],[0.2222222222222222,\"#7201a8\"],[0.3333333333333333,\"#9c179e\"],[0.4444444444444444,\"#bd3786\"],[0.5555555555555556,\"#d8576b\"],[0.6666666666666666,\"#ed7953\"],[0.7777777777777778,\"#fb9f3a\"],[0.8888888888888888,\"#fdca26\"],[1.0,\"#f0f921\"]]},\"colorway\":[\"#636efa\",\"#EF553B\",\"#00cc96\",\"#ab63fa\",\"#FFA15A\",\"#19d3f3\",\"#FF6692\",\"#B6E880\",\"#FF97FF\",\"#FECB52\"],\"font\":{\"color\":\"#f2f5fa\"},\"geo\":{\"bgcolor\":\"rgb(17,17,17)\",\"lakecolor\":\"rgb(17,17,17)\",\"landcolor\":\"rgb(17,17,17)\",\"showlakes\":true,\"showland\":true,\"subunitcolor\":\"#506784\"},\"hoverlabel\":{\"align\":\"left\"},\"hovermode\":\"closest\",\"mapbox\":{\"style\":\"dark\"},\"paper_bgcolor\":\"rgb(17,17,17)\",\"plot_bgcolor\":\"rgb(17,17,17)\",\"polar\":{\"angularaxis\":{\"gridcolor\":\"#506784\",\"linecolor\":\"#506784\",\"ticks\":\"\"},\"bgcolor\":\"rgb(17,17,17)\",\"radialaxis\":{\"gridcolor\":\"#506784\",\"linecolor\":\"#506784\",\"ticks\":\"\"}},\"scene\":{\"xaxis\":{\"backgroundcolor\":\"rgb(17,17,17)\",\"gridcolor\":\"#506784\",\"gridwidth\":2,\"linecolor\":\"#506784\",\"showbackground\":true,\"ticks\":\"\",\"zerolinecolor\":\"#C8D4E3\"},\"yaxis\":{\"backgroundcolor\":\"rgb(17,17,17)\",\"gridcolor\":\"#506784\",\"gridwidth\":2,\"linecolor\":\"#506784\",\"showbackground\":true,\"ticks\":\"\",\"zerolinecolor\":\"#C8D4E3\"},\"zaxis\":{\"backgroundcolor\":\"rgb(17,17,17)\",\"gridcolor\":\"#506784\",\"gridwidth\":2,\"linecolor\":\"#506784\",\"showbackground\":true,\"ticks\":\"\",\"zerolinecolor\":\"#C8D4E3\"}},\"shapedefaults\":{\"line\":{\"color\":\"#f2f5fa\"}},\"sliderdefaults\":{\"bgcolor\":\"#C8D4E3\",\"bordercolor\":\"rgb(17,17,17)\",\"borderwidth\":1,\"tickwidth\":0},\"ternary\":{\"aaxis\":{\"gridcolor\":\"#506784\",\"linecolor\":\"#506784\",\"ticks\":\"\"},\"baxis\":{\"gridcolor\":\"#506784\",\"linecolor\":\"#506784\",\"ticks\":\"\"},\"bgcolor\":\"rgb(17,17,17)\",\"caxis\":{\"gridcolor\":\"#506784\",\"linecolor\":\"#506784\",\"ticks\":\"\"}},\"title\":{\"x\":0.05},\"updatemenudefaults\":{\"bgcolor\":\"#506784\",\"borderwidth\":0},\"xaxis\":{\"automargin\":true,\"gridcolor\":\"#283442\",\"linecolor\":\"#506784\",\"ticks\":\"\",\"title\":{\"standoff\":15},\"zerolinecolor\":\"#283442\",\"zerolinewidth\":2},\"yaxis\":{\"automargin\":true,\"gridcolor\":\"#283442\",\"linecolor\":\"#506784\",\"ticks\":\"\",\"title\":{\"standoff\":15},\"zerolinecolor\":\"#283442\",\"zerolinewidth\":2}}},\"xaxis\":{\"anchor\":\"y\",\"domain\":[0.0,1.0],\"title\":{\"text\":\"Date\"}},\"yaxis\":{\"anchor\":\"x\",\"domain\":[0.0,1.0],\"title\":{\"text\":\"Compound Sentiment Score\"}},\"legend\":{\"title\":{\"text\":\"ticker\"},\"tracegroupgap\":0},\"title\":{\"text\":\"Sentiment Over Time\"},\"font\":{\"color\":\"white\"},\"hovermode\":\"x unified\"},                        {\"responsive\": true}                    ).then(function(){\n",
       "                            \n",
       "var gd = document.getElementById('6a3e33ae-48a7-4542-950d-6484ca66de94');\n",
       "var x = new MutationObserver(function (mutations, observer) {{\n",
       "        var display = window.getComputedStyle(gd).display;\n",
       "        if (!display || display === 'none') {{\n",
       "            console.log([gd, 'removed!']);\n",
       "            Plotly.purge(gd);\n",
       "            observer.disconnect();\n",
       "        }}\n",
       "}});\n",
       "\n",
       "// Listen for the removal of the full notebook cells\n",
       "var notebookContainer = gd.closest('#notebook-container');\n",
       "if (notebookContainer) {{\n",
       "    x.observe(notebookContainer, {childList: true});\n",
       "}}\n",
       "\n",
       "// Listen for the clearing of the current output cell\n",
       "var outputEl = gd.closest('.output');\n",
       "if (outputEl) {{\n",
       "    x.observe(outputEl, {childList: true});\n",
       "}}\n",
       "\n",
       "                        })                };                });            </script>        </div>"
      ]
     },
     "metadata": {},
     "output_type": "display_data"
    }
   ],
   "source": [
    "fig = px.line(mean_df, x='date', y='compound', color='ticker',\n",
    "              title=\"Sentiment Over Time\",\n",
    "              labels={'compound': 'Compound Sentiment Score', 'date': 'Date'})\n",
    "fig.update_layout(hovermode='x unified',  template='plotly_dark', font=dict(color='white'))\n",
    "fig.show()\n"
   ]
  },
  {
   "cell_type": "markdown",
   "id": "1fca7202-f780-45a7-a66d-ba5ec74b3855",
   "metadata": {},
   "source": [
    "Hover over a data point to view sentiment details, then refer to the corresponding date to explore related news headlines from that day."
   ]
  },
  {
   "cell_type": "markdown",
   "id": "c4392a7c-b512-441f-bea5-fbf07b055dbc",
   "metadata": {},
   "source": [
    "### Summary: \n",
    "- In market BYD has positive sentiment more often than TSLA. \n",
    "\n",
    "  "
   ]
  },
  {
   "cell_type": "code",
   "execution_count": null,
   "id": "d69dd6a4-9c3b-4ac4-b3c7-b5b430234a7c",
   "metadata": {},
   "outputs": [],
   "source": []
  }
 ],
 "metadata": {
  "kernelspec": {
   "display_name": "Python 3 (ipykernel)",
   "language": "python",
   "name": "python3"
  },
  "language_info": {
   "codemirror_mode": {
    "name": "ipython",
    "version": 3
   },
   "file_extension": ".py",
   "mimetype": "text/x-python",
   "name": "python",
   "nbconvert_exporter": "python",
   "pygments_lexer": "ipython3",
   "version": "3.12.2"
  }
 },
 "nbformat": 4,
 "nbformat_minor": 5
}
